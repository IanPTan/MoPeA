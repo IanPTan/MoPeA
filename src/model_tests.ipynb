{
 "cells": [
  {
   "cell_type": "markdown",
   "id": "1e0b4ccb",
   "metadata": {},
   "source": [
    "Import torch stuff, matplotlib, tqdm, and the model."
   ]
  },
  {
   "cell_type": "code",
   "execution_count": 52,
   "id": "aee3656a",
   "metadata": {},
   "outputs": [],
   "source": [
    "import torch as pt\n",
    "from torch import nn\n",
    "from torch.utils.data import Dataset, DataLoader\n",
    "from torch import optim\n",
    "\n",
    "import matplotlib.pyplot as plt\n",
    "from tqdm import tqdm\n",
    "\n",
    "import model as mm"
   ]
  },
  {
   "cell_type": "markdown",
   "id": "cbc2a5b6",
   "metadata": {},
   "source": [
    "Make simplest dataset to test if memory even works (ODR)."
   ]
  },
  {
   "cell_type": "code",
   "execution_count": 55,
   "id": "622cdc58",
   "metadata": {},
   "outputs": [],
   "source": [
    "class ODRDataset(Dataset):\n",
    "    def __init__(self, directions=4, min_wait=5, max_wait=10):\n",
    "        if min_wait >= max_wait:\n",
    "            raise Exception(\"Min wait must be less than max wait.\")\n",
    "\n",
    "        self.directions = directions\n",
    "        self.min_wait = min_wait\n",
    "        self.max_wait = max_wait\n",
    "\n",
    "    def __len__(self):\n",
    "        return self.directions * (self.max_wait - self.min_wait)\n",
    "\n",
    "    def __getitem__(self, ind):\n",
    "        if ind >= len(self):\n",
    "            raise Exception(\"Index out of range.\")\n",
    "        \n",
    "        wait = int(ind / self.directions)\n",
    "        direction = ind % self.directions\n",
    "\n",
    "        x = pt.zeros(self.max_wait + 2, self.directions + 1, dtype=pt.float32)\n",
    "        x[0][direction] = 1\n",
    "        x[wait + 1][-1] = 1\n",
    "        \n",
    "        labels = pt.full((self.max_wait + 2,), self.directions, dtype=pt.int64)\n",
    "        labels[wait + 1] = direction\n",
    "\n",
    "        return x, labels"
   ]
  },
  {
   "cell_type": "markdown",
   "id": "ca544c8e",
   "metadata": {},
   "source": [
    "Test dataset out for something simple."
   ]
  },
  {
   "cell_type": "code",
   "execution_count": null,
   "id": "3727b233",
   "metadata": {},
   "outputs": [
    {
     "name": "stdout",
     "output_type": "stream",
     "text": [
      "6 elements\n",
      "x:\n",
      "tensor([[[1., 0., 0., 0.],\n",
      "         [0., 0., 0., 1.],\n",
      "         [0., 0., 0., 0.],\n",
      "         [0., 0., 0., 0.]]], dtype=torch.float16)\n",
      "label:\n",
      "tensor([[3, 0, 3, 3]])\n",
      "\n",
      "x:\n",
      "tensor([[[0., 1., 0., 0.],\n",
      "         [0., 0., 0., 1.],\n",
      "         [0., 0., 0., 0.],\n",
      "         [0., 0., 0., 0.]]], dtype=torch.float16)\n",
      "label:\n",
      "tensor([[3, 1, 3, 3]])\n",
      "\n",
      "x:\n",
      "tensor([[[0., 0., 1., 0.],\n",
      "         [0., 0., 0., 1.],\n",
      "         [0., 0., 0., 0.],\n",
      "         [0., 0., 0., 0.]]], dtype=torch.float16)\n",
      "label:\n",
      "tensor([[3, 2, 3, 3]])\n",
      "\n",
      "x:\n",
      "tensor([[[1., 0., 0., 0.],\n",
      "         [0., 0., 0., 0.],\n",
      "         [0., 0., 0., 1.],\n",
      "         [0., 0., 0., 0.]]], dtype=torch.float16)\n",
      "label:\n",
      "tensor([[3, 3, 0, 3]])\n",
      "\n",
      "x:\n",
      "tensor([[[0., 1., 0., 0.],\n",
      "         [0., 0., 0., 0.],\n",
      "         [0., 0., 0., 1.],\n",
      "         [0., 0., 0., 0.]]], dtype=torch.float16)\n",
      "label:\n",
      "tensor([[3, 3, 1, 3]])\n",
      "\n",
      "x:\n",
      "tensor([[[0., 0., 1., 0.],\n",
      "         [0., 0., 0., 0.],\n",
      "         [0., 0., 0., 1.],\n",
      "         [0., 0., 0., 0.]]], dtype=torch.float16)\n",
      "label:\n",
      "tensor([[3, 3, 2, 3]])\n",
      "\n"
     ]
    }
   ],
   "source": [
    "dataset = ODRDataset(3, 0, 2)\n",
    "dataloader = DataLoader(dataset)\n",
    "print(f\"{len(dataset)} elements\")\n",
    "for x, labels in dataloader:\n",
    "    print(f\"x:\\n{x}\\nlabel:\\n{labels}\\n\")"
   ]
  },
  {
   "cell_type": "markdown",
   "id": "137a79a1",
   "metadata": {},
   "source": [
    "Make a training dataloader. Don't bother splitting dataset because if the model has nonfunctioning memory then it can't even overfit to begin with. Four directions and wait time in range(9). Also make the model, just 1 block, and make the criterion and optimizer."
   ]
  },
  {
   "cell_type": "code",
   "execution_count": 87,
   "id": "ad21d6f3",
   "metadata": {},
   "outputs": [
    {
     "name": "stdout",
     "output_type": "stream",
     "text": [
      "dataset length: 36\n",
      "number of batches: 5\n"
     ]
    }
   ],
   "source": [
    "dataset = ODRDataset(4, 1, 10)\n",
    "dataloader = DataLoader(dataset, batch_size=8)\n",
    "model = mm.MoPeAModel(5, 16, 5, 16, depth=1)\n",
    "raw_criterion = nn.CrossEntropyLoss()\n",
    "def criterion(outputs, labels):\n",
    "    outputs = outputs.view(-1, outputs.shape[-1])\n",
    "    labels = labels.view(-1)\n",
    "    return raw_criterion(outputs, labels)\n",
    "optimizer = optim.AdamW(model.parameters(), lr=1e-3)\n",
    "scheduler = optim.lr_scheduler.ReduceLROnPlateau(\n",
    "    optimizer,\n",
    "    mode='min',\n",
    "    factor=0.1,\n",
    "    patience=20,\n",
    ")\n",
    "\n",
    "print(f\"dataset length: {len(dataset)}\\nnumber of batches: {len(dataloader)}\")"
   ]
  },
  {
   "cell_type": "markdown",
   "id": "361ad205",
   "metadata": {},
   "source": [
    "Train the model now on the dataset for 100 epochs and then plot the loss graph."
   ]
  },
  {
   "cell_type": "code",
   "execution_count": 88,
   "id": "5a12eeee",
   "metadata": {},
   "outputs": [
    {
     "name": "stderr",
     "output_type": "stream",
     "text": [
      "100%|██████████| 1000/1000 [06:43<00:00,  2.48it/s, loss=0.1817, lr=1e-8] \n"
     ]
    },
    {
     "name": "stdout",
     "output_type": "stream",
     "text": [
      "\n"
     ]
    },
    {
     "data": {
      "image/png": "[encoded data removed]",
      "text/plain": [
       "<Figure size 640x480 with 1 Axes>"
      ]
     },
     "metadata": {},
     "output_type": "display_data"
    }
   ],
   "source": [
    "model.train()\n",
    "losses = []\n",
    "pbar = tqdm(range(1000))\n",
    "for epoch in pbar:\n",
    "    total_loss = 0\n",
    "    for x, labels in dataloader:\n",
    "        optimizer.zero_grad()\n",
    "\n",
    "        outputs = model(x)\n",
    "        loss = criterion(outputs, labels)\n",
    "\n",
    "        loss.backward()\n",
    "        optimizer.step()\n",
    "\n",
    "        total_loss += loss.item()\n",
    "\n",
    "    avg_loss = total_loss / len(dataloader)\n",
    "    losses.append(avg_loss)\n",
    "    current_lr = optimizer.param_groups[0]['lr']\n",
    "    pbar.set_postfix(loss=f\"{avg_loss:.4f}\", lr=current_lr)\n",
    "\n",
    "    scheduler.step(avg_loss)\n",
    "model.eval()\n",
    "print()\n",
    "\n",
    "plt.plot(losses)\n",
    "plt.show()"
   ]
  },
  {
   "cell_type": "markdown",
   "id": "c67d7b79",
   "metadata": {},
   "source": [
    "Since the model is able to learn the ODR task it means the model has some sort of memory capabilities, because if it didn't then it shouldn't have any information from the past states."
   ]
  }
 ],
 "metadata": {
  "kernelspec": {
   "display_name": "MoPeA (3.13.7)",
   "language": "python",
   "name": "python3"
  },
  "language_info": {
   "codemirror_mode": {
    "name": "ipython",
    "version": 3
   },
   "file_extension": ".py",
   "mimetype": "text/x-python",
   "name": "python",
   "nbconvert_exporter": "python",
   "pygments_lexer": "ipython3",
   "version": "3.13.7"
  }
 },
 "nbformat": 4,
 "nbformat_minor": 5
}
