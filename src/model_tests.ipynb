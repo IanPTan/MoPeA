{
 "cells": [
  {
   "cell_type": "markdown",
   "id": "1e0b4ccb",
   "metadata": {},
   "source": [
    "Import torch stuff, matplotlib, tqdm, and the model."
   ]
  },
  {
   "cell_type": "code",
   "execution_count": 146,
   "id": "aee3656a",
   "metadata": {},
   "outputs": [],
   "source": [
    "import torch as pt\n",
    "from torch import nn\n",
    "from torch.utils.data import Dataset, DataLoader\n",
    "from torch import optim\n",
    "\n",
    "import matplotlib.pyplot as plt\n",
    "from tqdm import tqdm\n",
    "\n",
    "import model as mm"
   ]
  },
  {
   "cell_type": "markdown",
   "id": "cbc2a5b6",
   "metadata": {},
   "source": [
    "Make simplest dataset to test if memory even works (ODR)."
   ]
  },
  {
   "cell_type": "code",
   "execution_count": 147,
   "id": "622cdc58",
   "metadata": {},
   "outputs": [],
   "source": [
    "class ODRDataset(Dataset):\n",
    "    def __init__(self, directions=4, min_wait=5, max_wait=10):\n",
    "        if min_wait >= max_wait:\n",
    "            raise Exception(\"Min wait must be less than max wait.\")\n",
    "\n",
    "        self.directions = directions\n",
    "        self.min_wait = min_wait\n",
    "        self.max_wait = max_wait\n",
    "\n",
    "    def __len__(self):\n",
    "        return self.directions * (self.max_wait - self.min_wait)\n",
    "\n",
    "    def __getitem__(self, ind):\n",
    "        if ind >= len(self):\n",
    "            raise Exception(\"Index out of range.\")\n",
    "        \n",
    "        wait = int(ind / self.directions) + self.min_wait\n",
    "        direction = ind % self.directions\n",
    "\n",
    "        x = pt.zeros(self.max_wait + 1, self.directions + 1, dtype=pt.float32)\n",
    "        x[0][direction] = 1\n",
    "        x[wait + 1][-1] = 1\n",
    "        \n",
    "        labels = pt.full((self.max_wait + 1,), self.directions, dtype=pt.int64)\n",
    "        labels[wait + 1] = direction\n",
    "\n",
    "        return x, labels"
   ]
  },
  {
   "cell_type": "markdown",
   "id": "ca544c8e",
   "metadata": {},
   "source": [
    "Test dataset out for something simple."
   ]
  },
  {
   "cell_type": "code",
   "execution_count": 148,
   "id": "3727b233",
   "metadata": {},
   "outputs": [
    {
     "name": "stdout",
     "output_type": "stream",
     "text": [
      "6 elements\n",
      "x:\n",
      "tensor([[[1., 0., 0., 0.],\n",
      "         [0., 0., 0., 0.],\n",
      "         [0., 0., 0., 1.],\n",
      "         [0., 0., 0., 0.]]])\n",
      "label:\n",
      "tensor([[3, 3, 0, 3]])\n",
      "\n",
      "x:\n",
      "tensor([[[0., 1., 0., 0.],\n",
      "         [0., 0., 0., 0.],\n",
      "         [0., 0., 0., 1.],\n",
      "         [0., 0., 0., 0.]]])\n",
      "label:\n",
      "tensor([[3, 3, 1, 3]])\n",
      "\n",
      "x:\n",
      "tensor([[[0., 0., 1., 0.],\n",
      "         [0., 0., 0., 0.],\n",
      "         [0., 0., 0., 1.],\n",
      "         [0., 0., 0., 0.]]])\n",
      "label:\n",
      "tensor([[3, 3, 2, 3]])\n",
      "\n",
      "x:\n",
      "tensor([[[1., 0., 0., 0.],\n",
      "         [0., 0., 0., 0.],\n",
      "         [0., 0., 0., 0.],\n",
      "         [0., 0., 0., 1.]]])\n",
      "label:\n",
      "tensor([[3, 3, 3, 0]])\n",
      "\n",
      "x:\n",
      "tensor([[[0., 1., 0., 0.],\n",
      "         [0., 0., 0., 0.],\n",
      "         [0., 0., 0., 0.],\n",
      "         [0., 0., 0., 1.]]])\n",
      "label:\n",
      "tensor([[3, 3, 3, 1]])\n",
      "\n",
      "x:\n",
      "tensor([[[0., 0., 1., 0.],\n",
      "         [0., 0., 0., 0.],\n",
      "         [0., 0., 0., 0.],\n",
      "         [0., 0., 0., 1.]]])\n",
      "label:\n",
      "tensor([[3, 3, 3, 2]])\n",
      "\n"
     ]
    }
   ],
   "source": [
    "dataset = ODRDataset(3, 1, 3)\n",
    "dataloader = DataLoader(dataset)\n",
    "print(f\"{len(dataset)} elements\")\n",
    "for x, labels in dataloader:\n",
    "    print(f\"x:\\n{x}\\nlabel:\\n{labels}\\n\")"
   ]
  },
  {
   "cell_type": "markdown",
   "id": "137a79a1",
   "metadata": {},
   "source": [
    "Make a training dataloader. Don't bother splitting dataset because if the model has nonfunctioning memory then it can't even overfit to begin with. Four directions and wait time in range(9). Also make the model, just 1 block, and make the criterion and optimizer."
   ]
  },
  {
   "cell_type": "code",
   "execution_count": 149,
   "id": "ad21d6f3",
   "metadata": {},
   "outputs": [
    {
     "name": "stdout",
     "output_type": "stream",
     "text": [
      "dataset length: 80\n",
      "number of batches: 10\n"
     ]
    }
   ],
   "source": [
    "DIRECTIONS = 8\n",
    "\n",
    "\n",
    "\n",
    "dataset = ODRDataset(DIRECTIONS, 10, 20)\n",
    "dataloader = DataLoader(dataset, batch_size=8, shuffle=True)\n",
    "model = mm.MoPeAModel(DIRECTIONS + 1, DIRECTIONS * 2, DIRECTIONS + 1, DIRECTIONS, depth=1, min_r=0.5)\n",
    "\n",
    "raw_criterion = nn.CrossEntropyLoss(reduction=\"none\")\n",
    "def criterion(outputs, labels):\n",
    "    blank_label = labels.max()\n",
    "    mask = (labels != blank_label)\n",
    "    \n",
    "    outputs = outputs.view(-1, outputs.shape[-1])\n",
    "    labels = labels.view(-1)\n",
    "    mask = mask.view(-1)\n",
    "    raw_loss = raw_criterion(outputs, labels)\n",
    "    loss = pt.sum(raw_loss * mask) / pt.sum(mask)\n",
    "    \n",
    "    return loss\n",
    "\n",
    "optimizer = optim.AdamW(model.parameters(), lr=1e-3)\n",
    "scheduler = optim.lr_scheduler.ReduceLROnPlateau(\n",
    "    optimizer,\n",
    "    mode='min',\n",
    "    factor=0.1,\n",
    "    patience=5,\n",
    ")\n",
    "\n",
    "print(f\"dataset length: {len(dataset)}\\nnumber of batches: {len(dataloader)}\")"
   ]
  },
  {
   "cell_type": "markdown",
   "id": "361ad205",
   "metadata": {},
   "source": [
    "Train the model now on the dataset for 100 epochs and then plot the loss graph."
   ]
  },
  {
   "cell_type": "code",
   "execution_count": 150,
   "id": "5a12eeee",
   "metadata": {},
   "outputs": [
    {
     "name": "stderr",
     "output_type": "stream",
     "text": [
      "  0%|          | 0/100 [00:00<?, ?it/s]\n"
     ]
    },
    {
     "ename": "ValueError",
     "evalue": "too many values to unpack (expected 3)",
     "output_type": "error",
     "traceback": [
      "\u001b[31m---------------------------------------------------------------------------\u001b[39m",
      "\u001b[31mValueError\u001b[39m                                Traceback (most recent call last)",
      "\u001b[36mCell\u001b[39m\u001b[36m \u001b[39m\u001b[32mIn[150]\u001b[39m\u001b[32m, line 9\u001b[39m\n\u001b[32m      6\u001b[39m \u001b[38;5;28;01mfor\u001b[39;00m x, labels \u001b[38;5;129;01min\u001b[39;00m dataloader:\n\u001b[32m      7\u001b[39m     optimizer.zero_grad()\n\u001b[32m----> \u001b[39m\u001b[32m9\u001b[39m     outputs, A, B = model(x)\n\u001b[32m     11\u001b[39m     A = A[\u001b[32m0\u001b[39m]\n\u001b[32m     12\u001b[39m     B = B[\u001b[32m0\u001b[39m]\n",
      "\u001b[31mValueError\u001b[39m: too many values to unpack (expected 3)"
     ]
    }
   ],
   "source": [
    "model.train()\n",
    "losses = []\n",
    "pbar = tqdm(range(100))\n",
    "for epoch in pbar:\n",
    "    total_loss = 0\n",
    "    for x, labels in dataloader:\n",
    "        optimizer.zero_grad()\n",
    "\n",
    "        outputs, A, B = model(x)\n",
    "\n",
    "        A = A[0]\n",
    "        B = B[0]\n",
    "        \n",
    "        A_mag = pt.abs(A.detach()).mean(dim=(-2, -1))\n",
    "        B_mag = pt.abs(B.detach()).mean(dim=(-2, -1))\n",
    "\n",
    "        plt.plot(A_mag)\n",
    "        plt.plot(B_mag)\n",
    "        plt.show()\n",
    "        \n",
    "        1/0\n",
    "\n",
    "        loss = criterion(outputs, labels)\n",
    "\n",
    "        loss.backward()\n",
    "        optimizer.step()\n",
    "\n",
    "        total_loss += loss.item()\n",
    "\n",
    "    avg_loss = total_loss / len(dataloader)\n",
    "    losses.append(avg_loss)\n",
    "    current_lr = optimizer.param_groups[0]['lr']\n",
    "    pbar.set_postfix(loss=f\"{avg_loss:.4f}\", lr=current_lr)\n",
    "\n",
    "    scheduler.step(avg_loss)\n",
    "model.eval()\n",
    "print()\n",
    "\n",
    "plt.plot(losses)\n",
    "plt.show()"
   ]
  },
  {
   "cell_type": "markdown",
   "id": "eb369257",
   "metadata": {},
   "source": [
    "Now to quickly test the model and manually inspect its output."
   ]
  },
  {
   "cell_type": "code",
   "execution_count": null,
   "id": "a5573167",
   "metadata": {},
   "outputs": [
    {
     "data": {
      "image/png": "[encoded data removed]",
      "text/plain": [
       "<Figure size 640x480 with 1 Axes>"
      ]
     },
     "metadata": {},
     "output_type": "display_data"
    },
    {
     "data": {
      "image/png": "[encoded data removed]",
      "text/plain": [
       "<Figure size 640x480 with 1 Axes>"
      ]
     },
     "metadata": {},
     "output_type": "display_data"
    },
    {
     "name": "stdout",
     "output_type": "stream",
     "text": [
      "tensor([8, 8, 8, 8, 8, 8, 8, 8, 8, 8, 8, 5, 8, 8, 8, 8, 8, 8, 8, 8, 8])\n",
      "tensor([[0.0843, 0.1727, 0.1225, 0.1403, 0.1108, 0.0674, 0.0816, 0.1679, 0.0524]],\n",
      "       grad_fn=<IndexBackward0>)\n"
     ]
    }
   ],
   "source": [
    "EXAMPLE_INDEX = 5\n",
    "\n",
    "x, labels = dataset[EXAMPLE_INDEX]\n",
    "x = x.unsqueeze(0)\n",
    "labels = labels.unsqueeze(0)\n",
    "\n",
    "model.eval()\n",
    "y = model(x)\n",
    "\n",
    "plt.imshow(x[0].T)\n",
    "plt.show()\n",
    "\n",
    "plt.imshow(y[0].detach().T)\n",
    "plt.plot(labels[0], color=\"orange\")\n",
    "plt.show()\n",
    "\n",
    "print(labels[0])\n",
    "print(y[0][labels[0]!=labels.max()])"
   ]
  },
  {
   "cell_type": "markdown",
   "id": "c67d7b79",
   "metadata": {},
   "source": [
    "Since the model is able to learn the ODR task it means the model has some sort of memory capabilities, because if it didn't then it shouldn't have any information from the past states. Next is to visualize the memory matrix for a simple case. In this case two directions."
   ]
  }
 ],
 "metadata": {
  "kernelspec": {
   "display_name": "MoPeA (3.13.7)",
   "language": "python",
   "name": "python3"
  },
  "language_info": {
   "codemirror_mode": {
    "name": "ipython",
    "version": 3
   },
   "file_extension": ".py",
   "mimetype": "text/x-python",
   "name": "python",
   "nbconvert_exporter": "python",
   "pygments_lexer": "ipython3",
   "version": "3.13.7"
  }
 },
 "nbformat": 4,
 "nbformat_minor": 5
}
